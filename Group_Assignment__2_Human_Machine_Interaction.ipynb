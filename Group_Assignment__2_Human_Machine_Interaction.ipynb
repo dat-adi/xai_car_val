{
  "nbformat": 4,
  "nbformat_minor": 0,
  "metadata": {
    "colab": {
      "provenance": []
    },
    "kernelspec": {
      "name": "python3",
      "display_name": "Python 3"
    },
    "language_info": {
      "name": "python"
    }
  },
  "cells": [
    {
      "cell_type": "markdown",
      "source": [
        "# **Group Assignment 2: Human-machine Interaction and Greater Zero-sum Gains [100 points]**\n",
        "\n",
        "Due: April 25th by 11:59 pm\n",
        "\n",
        "# Instructions\n",
        "In this assignment you will work in groups of 2-3 students max (they can be the same as the previous group assignment). You will be presented with an additional challenge: achieving complementary team performance. You will be designing an experiment to validate your solutions and hypotheses of what you think you are going to observe. Through a small-scale user study, you will collect some evidence to gain insights about your solution.  \n",
        "\n",
        "**Deliverables:**\n",
        "1.   A PDF containing all of your responses to the written questions shared in this notebook.\n",
        "\n",
        "Upload the PDF in 1 to the main assignment link on Gradescope.\n",
        "\n",
        "Only one submission per group is needed. Add the names of your team members:\n",
        "\n",
        "    [Venkata Datta Adithya Gadhamsetty, Mukund Iyengar, Gabriel De Romana]\n",
        "\n",
        "**Learning outcomes:**\n",
        "1.  Formulating study designs to test your solutions.\n",
        "2.  Executing the study and interpreting the data acquired."
      ],
      "metadata": {
        "id": "VVf630KvIJ4W"
      }
    },
    {
      "cell_type": "markdown",
      "source": [
        "### Background\n",
        "Make sure you read and undestand these concepts before you start developing the assignment.\n",
        "\n",
        "People team up with AI-powered systems to accomplish critical\n",
        "tasks as well as more mundane tasks. There is a premise stating that the expertise of the AI system complements the expertise of the human, which allows the partnership to accomplish even more than each actor involved alone. This is reflected in a better human-AI team performance or **complementary performance** because the interacting parties' aggregate gains and losses can be more than zero, i.e., there's a non-zero-sum situation.\n",
        "\n",
        "In practice, the degree of complementary expertise can vary from no overlap of expertise to perfect complementarity. Besides, it is not always easy for a human user to know when an AI system may be an expert in some parts of\n",
        "a task but be a non-expert in others.\n",
        "\n",
        "Despite observed improvements when humans collaborate with AI in certain tasks compared to humans working alone, there remains a gap with respect to the AI's performance in autonomous operation. The challenges mentioned above can potentially contribute to achieving such superior performance than both individual parts. Importantly, we would like to keep the human-in-the-loop for acceptance, accountability, and ethical and legal considerations.  \n",
        "\n",
        "\n",
        "### Your goal: Design an AI assistance solution that will allow the human-AI team to achieve better task-related performace than each part operating separately.\n",
        "\n",
        "Reference: [You Complete Me: Human-AI Teams and Complementary\n",
        "Expertise](https://dl.acm.org/doi/10.1145/3491102.3517791)"
      ],
      "metadata": {
        "id": "IAsN4m2yIe14"
      }
    },
    {
      "cell_type": "markdown",
      "source": [
        "### Part 1 — Study overview\n",
        "\n",
        "### Problem 1.1 [6 points]\n",
        "Define an AI-based solution with explanations and specify the target end users.\n",
        "This problem should allow or **have the potential for greater zero-sum gains**. A task that is very easy for humans might not be suitable (it will be hard to beat the human alone).\n",
        "Because we are not following the initial stages of design thinking to identify real needs and define your solution again in this assignment, you can use any of the ideas from previous assignments.\n",
        "\n",
        "Make sure to include\n",
        "*   The need being fulfilled by your solution  \n",
        "*   What the model inputs, general mechanism, and outputs are\n",
        "*   How explainability or interpretability is incorporated"
      ],
      "metadata": {
        "id": "H6j8wQ5oNscB"
      }
    },
    {
      "cell_type": "markdown",
      "source": [
        "*Enter your answer here*\n",
        "\n",
        "You may use the template below:\n",
        "\n",
        "**Solution Overview:** An AI-powered tool that estimates second-hand car values by analyzing visible features and providing prototype-based explanations.\n",
        "\n",
        "**Target End Users:** Car enthusiasts seeking to make informed second-hand car purchase decisions.\n",
        "\n",
        "**Need Fulfillment:**\n",
        "- Primary need addressed: Users need a fast, trustworthy estimate of used car value based on damages, features, and comparisons to similar cars.\n",
        "- How this creates potential for complementary gains: AI can detect patterns (e.g., subtle damage) humans might miss, while users can question the AI's valuation based on personal preferences.\n",
        "\n",
        "**Model:**\n",
        "- Inputs: Image of the car (uploaded by the user)\n",
        "- Processing mechanism: The ProtoPNet model extracts visual parts, compares them to known prototypes (e.g., \"wheel dent\", \"scratched door\"), and predicts a value with part-wise explanations.\n",
        "- Outputs: Predicted car resale value, List of detected issues with estimated price impact.\n",
        "\n",
        "**Explainability Approach:**\n",
        "- Technique(s): The technique would be a prototype explanation\n",
        "- Implementation: The model highlights matched car parts to known prototypes and presents hypothetical value changes based on fixing specific damages.\n",
        "- User interaction: Users upload the picture, view part-based breakdowns (prototypes), visualize which damages affected the price (explainability), and adjust scenarios to re-estimate the car value."
      ],
      "metadata": {
        "id": "vpvGRxajIUWS"
      }
    },
    {
      "cell_type": "markdown",
      "source": [
        "### Problem 1.2 [8 points]\n",
        "\n",
        "Formulate the hypotheses you need to test in a user study that allow you to validate whether your solution achieves the main goal (complementary team performance).\n",
        "This requires specifying what you will be measuring (dependent variables) and the independent variables (experimental treatments or manipulations).\n",
        "\n",
        "\n",
        "**Note:** balance the complexity and feasibility of running such a study. Think about what are the necessary conditions that would allow you to validate your solution."
      ],
      "metadata": {
        "id": "l4zvO7PRRxOZ"
      }
    },
    {
      "cell_type": "markdown",
      "source": [
        "*Enter your answer here*\n",
        "\n",
        "For each hypothesis, complete the following:\n",
        "\n",
        "**H1:** Prototype-based explanations effectively influence the user into correcting their estimate towards the ground truth.\n",
        "- Rationale: Seeing specific parts that affected the price helps users understand and validate the model’s reasoning, thereby enabling them to place more importance in them when re-estimating the price\n",
        "- Relates to which aspect of complementary performance: Improved the user's trust in the prediction made by AI assistance (complementary expertise between human intuition and machine reasoning).\n",
        "\n",
        "**H2:** Users supported by prototype-based explanations are more confident in their estimation of the ground truth\n",
        "- Rationale: The prototype-based explanation will increase the user's confidence in their prediction as compared to the case when they have no such AI assistance\n",
        "- Relates to which aspect of complementary performance: Better joint decision performance stemming from increased confidence in the user's predictions (the human-AI team outperforms the human alone or AI alone).\n",
        "\n",
        "...\n",
        "\n",
        "Define the variables of the experiment in the tables below:\n",
        "\n",
        "**Independent Variables:**\n",
        "\n",
        "| Variable Name | Type (Between/Within) | Levels/Conditions |\n",
        "|--------------|----------------------|-------------------|\n",
        "| User's estimated valuation | Within | Initial and post-explanation valuation estimation |\n",
        "| User's confidence | Within | Confidence with and without an AI explanation |\n",
        "\n",
        "**Dependent Variables:**\n",
        "\n",
        "| Variable Name | Measures | Relates to Hypothesis |\n",
        "|--------------|----------|----------------------|\n",
        "| Weight of Advice | Magnitude of change in valuation with respect to the ground truth | H1\n",
        "| Change in confidence | Change in confidence pre and post explanation | H2\n",
        "\n",
        "\n",
        "For the dependent variables, you don't need to specify how you will measure them here.\n"
      ],
      "metadata": {
        "id": "0ZYi2VcCQdOY"
      }
    },
    {
      "cell_type": "markdown",
      "source": [
        "### Problem 1.3 [6 points]\n",
        "\n",
        "Define your experimental task and how you will acquire the data to compute the dependent variables mentioned above."
      ],
      "metadata": {
        "id": "mvyemyu5ZmOI"
      }
    },
    {
      "cell_type": "markdown",
      "source": [
        "*Enter your answer here*\n",
        "\n",
        "Note: We recruit only experts as previous studies have shown that novices blindly trust AI systems, this makes it hard to measure influence.\n",
        "\n",
        "**Experimental Task Description:** Initially, experts will be presented with an image of car and produce a blind valuation estimate after which they are requested for their confidence in their prediction. This leads into the second case where users are provided the same car, but with a prototype-based explanation to inform them of the model's prediction and the factors that constitute it. Post the user's second prediction, they are requested for their confidence in their now-informed prediction.\n",
        "\n",
        "**Data Collection Methods:**\n",
        "\n",
        "| Dependent Variable | Collection Method | Calculation/Processing |\n",
        "|-------------------|-------------------|------------------------|\n",
        "| Weight of advice | The user's initial and post-explanation estimate | The difference in user's estimation prior to and post explanation |\n",
        "| Change in confidence | The user's confidence input pre and post explanation | The difference in the user's confidence of the estimation prior to and post explanation |"
      ],
      "metadata": {
        "id": "LkZVM4aJZzDm"
      }
    },
    {
      "cell_type": "markdown",
      "source": [
        "### Part 2 — Interface development\n",
        "\n",
        "### Problem 2.1 [40 points]\n",
        "Build your **React prototype** with the intent to gather meaningful feedback for evaluating your solution's effectiveness. We won't be asking you to build paper or Figma prototypes this time, but some planning of the interface and interactions is recommended.\n",
        "\n",
        "Take into account that\n",
        "\n",
        "*   Your interface should support the recording of all the measurements relevant to validate your hypotheses.\n",
        "*   You may need additional pages to capture some metrics (e.g., through questionnaires).\n",
        "*   Data recording is a must here since you will recruit participants to validate your hypotheses.\n",
        "* You don't need to host your web application. You can launch the web interface locally for the main study in the next stage.   \n",
        "\n",
        "\n",
        "The actual deliverable for this part will be a demo for the pitch session scheduled during the final exam slot of this course. More information about the format will be released soon.\n",
        "\n",
        "As you complete this assignment, please prepare the demo."
      ],
      "metadata": {
        "id": "JjxlRsFpQrxx"
      }
    },
    {
      "cell_type": "markdown",
      "source": [
        "*Provide a link to your code here. It can be a github repository or Google Drive folder*"
      ],
      "metadata": {
        "id": "d6pm1PGQV4LX"
      }
    },
    {
      "cell_type": "markdown",
      "source": [
        "### Bonus [10%]:\n",
        "\n",
        "Implement the actual ML model that generates the outcomes of interest and connect it with your main interface. In this way, rather than mocking up the AI outcomes or behaviors, you can use your model to display the predictions and the corresponding explanations when needed.\n",
        "\n",
        "Considerations:\n",
        "* You may need access to certain datasets and annotations to train the model(s).\n",
        "\n",
        "* Think about what information you need to access in the backend to be transferred to the frontend, where the user will have the interaction with your AI system.\n",
        "\n",
        "* Real time processing is not required, but if your model relies on users' inputs to make some computations, then you may have to consider online processing.\n",
        "\n",
        "If you decide to complete the bonus, please report the dataset, data splits, training setup, experiments, and model evaluation."
      ],
      "metadata": {
        "id": "jHoj-lOPSPIC"
      }
    },
    {
      "cell_type": "markdown",
      "source": [
        "### Part 3 — Conducting a user study\n",
        "\n",
        "### Problem 3.1 [5 points]\n",
        "\n",
        "Before running your user study, we need to define the:\n",
        "\n",
        "1.  Experimental protocol of your study (execution steps)\n",
        "2.  Recruitment strategy (target population, inclusion/exclusion criteria, and participants' assignment).\n",
        "\n",
        "As a guide, your responses should resemble the corresponding sections in the Methods sections of the papers we have discussed in class."
      ],
      "metadata": {
        "id": "OJUpEfz8Qws9"
      }
    },
    {
      "cell_type": "markdown",
      "source": [
        "*One paragraph with your experimental protocol*\n",
        "\n",
        "Participants will first complete an informed consent form and a short demographic survey. Each participant will then complete a series of car valuation tasks divided into two phases. In the first phase (baseline), participants will be shown an image of a second-hand car and asked to provide an initial estimated resale value, along with a confidence rating on a 1–10 scale. In the second phase (assisted), participants will be presented with the same image, now accompanied by a prototype-based AI explanation highlighting specific features of the car and a suggested AI valuation. Participants will then provide a revised valuation estimate and a second confidence rating.\n",
        "\n",
        "*One paragraph with the participants information*\n",
        "\n",
        "We will recruit 20 adult participants who have a strong personal interest in automobiles and experience purchasing cars, thereby possessing an informed understanding of the second-hand car market and valuation trends. Participants will not be professional car appraisers, but will be selected based on their demonstrated experience with the car market. Recruitment will be conducted through mutual contacts and online automotive communities. To ensure expertise, we screened participants by asking whether they have experience buying cars and whether they feel confident estimating car values based on market trends. Additionally, to avoid potential bias in confidence ratings, all participants were individuals not personally known to the researchers. No monetary compensation will be provided. We specifically chose to recruit experts and car enthusiasts, rather than novices, because prior research indicates that novice users tend to blindly trust AI systems, making it difficult to accurately measure the effects of AI explanations on user judgment.\n",
        "\n"
      ],
      "metadata": {
        "id": "T6zz4yTQYsWp"
      }
    },
    {
      "cell_type": "markdown",
      "source": [
        "### Problem 3.2 [35 points]\n",
        "Collect data with at least 8 subjects. For this assignment, it is acceptable if the participants you recruit are not those specified as the target end users (explain if this is the case).\n",
        "\n",
        "Note: normally, we would need IRB approvals for conducting human-subjects evaluation, even when the risks are low because this type of studies involve intervention or testing (Neuropsychological/ cognitive/ psychosocial/ behavioral/ educational).\n",
        "\n",
        "Do the statistical analyses and report your main findings. Did you find evidence for your hypotheses? briefly discuss your results.\n",
        "\n"
      ],
      "metadata": {
        "id": "MtqTxnWIST34"
      }
    },
    {
      "cell_type": "markdown",
      "source": [
        "*Enter your answer here*\n",
        "\n",
        "**Sample Description:**\n",
        "Number of participants: N = 20\n",
        "\n",
        "Relevant demographics: Participants were adults aged 21–26 years old. The sample included an even distribution of male and female participants (10 males, 10 females).\n",
        "\n",
        "Recruitment source: Participants were recruited through mutual contacts to avoid bias in confidence rating.\n",
        "\n",
        "Deviation from target population (if any): No major deviation. All participants met the inclusion criteria of having prior experience purchasing cars and an informed understanding of the car market. Participants were not professional appraisers but were car enthusiasts with practical experience, as intended.\n",
        "\n",
        "**Statistical Analysis Plan:**\n",
        "Hypothesis H1 (Prototype explanations influence correction toward ground truth):\n",
        "Analysis: Paired-sample t-test comparing initial prediction errors (relative to ground truth) and final prediction errors.\n",
        "Dependent measure: Magnitude of prediction change.\n",
        "\n",
        "Hypothesis H2 (Prototype explanations increase confidence):\n",
        "Analysis: Paired-sample t-test comparing confidence ratings before and after AI explanation.\n",
        "Dependent measure: Change in confidence score.\n",
        "Significance threshold: α = 0.05\n",
        "\n",
        "Software used: Microsoft Excel"
      ],
      "metadata": {
        "id": "cRbvvNDTbQBM"
      }
    },
    {
      "cell_type": "markdown",
      "source": [
        "*Organize your results by sections considering the depedent variables or constructs measured. Include descriptive statistics and outcomes of the statistical tests. Graphs,tables, or visualizations can be included as well.*\n",
        "\n",
        "You may use the template below:\n",
        "\n",
        "**Results by Dependent Variable:**\n",
        "\n",
        "#### [Weight of Advice]\n",
        "[Insert table of descriptive statistics]\n",
        "https://docs.google.com/spreadsheets/d/1z3SYHVLFnpjFpeMPGHsFhI3m4GHD0qcFRx7ZsVRsYC4/edit?usp=sharing\n",
        "\n",
        "| Measure | Value |\n",
        "| --- | --- |\n",
        "| Mean Initial Prediction\t| 6820 |\n",
        "| Mean Final Prediction\t| 3170 |\n",
        "| Mean Prediction Change\t| -3650 |\n",
        "\n",
        "[Insert statistical test results]\n",
        "A paired-sample t-test revealed a statistically significant difference between participants' initial and final predictions, p = 4.435636 × 10⁻¹¹ (p < 0.001).\n",
        "\n",
        "[Optional: Insert visualization]\n",
        "\n",
        "Key finding: [1-2 sentences highlighting the main result]\n",
        "\n",
        "Participants' valuation predictions significantly shifted toward more accurate estimates after viewing the AI prototype-based explanations, supporting that the AI effectively influenced human judgment.\n",
        "\n",
        "#### [Confidence Rating]\n",
        "[Insert table of descriptive statistics]\n",
        "\n",
        "| Measure | Value |\n",
        "| --- | --- |\n",
        "| Mean Confidence Start |\t3.65 |\n",
        "| Mean Confidence End |\t7.90 |\n",
        "| Mean Confidence Change | +4.25 |\n",
        "\n",
        "[Insert statistical test results]\n",
        "A paired-sample t-test revealed a statistically significant increase in participants' confidence ratings from pre- to post-explanation, p = 1.8311704 × 10⁻¹⁰ (p < 0.001).\n",
        "\n",
        "[Optional: Insert visualization]\n",
        "![Visualization](https://github.com/dat-adi/xai_car_val/blob/master/visualization/car_valuation_analysis.png?raw=true)\n",
        "\n",
        "Key finding: Participants reported significantly higher confidence in their valuation estimates after receiving AI explanations, indicating that the prototype-based approach improved user self-assurance and trust in the decision process."
      ],
      "metadata": {
        "id": "jx8vjx_kkiq5"
      }
    },
    {
      "cell_type": "markdown",
      "source": [
        "*Enter your answer here*\n",
        "\n",
        "**Summary of Findings:**\n",
        "\n",
        "| Hypothesis | Supported? | Key Evidence |\n",
        "|------------|------------|-------------|\n",
        "| H1 | Yes | Participants’ valuation predictions significantly shifted toward more accurate estimates after seeing the AI explanations (p < 0.001), indicating the AI effectively influenced human estimates toward the ground truth. |\n",
        "| H2 | Yes | \tParticipants' confidence levels significantly increased after receiving prototype-based explanations (p < 0.001), showing that AI assistance enhanced user self-assurance in their valuations. |\n",
        "\n",
        "**Discussion:** [75-100 words interpreting results in relation to complementary performance]\n",
        "The results support that human-AI collaboration led to improved complementary performance. Many participants chose to align their final estimates closely with the AI model’s prediction, often adopting the suggested value directly. Users reported that the AI explanations not only helped validate their instincts (e.g., confirming that high mileage reduces car value) but also enhanced their understanding of the magnitude of specific factors on pricing, which they previously found difficult to quantify. Additionally, participants who fully adopted the model’s prediction (e.g., final estimate of 3000) tended to report slightly higher confidence ratings, suggesting that clear, prototype-based explanations strengthened both decision accuracy and user trust.\n",
        "\n",
        "\n",
        "\n",
        "\n"
      ],
      "metadata": {
        "id": "sRlMKrQnkoDa"
      }
    }
  ]
}